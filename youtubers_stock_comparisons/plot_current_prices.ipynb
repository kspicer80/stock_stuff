{
 "cells": [
  {
   "cell_type": "code",
   "execution_count": null,
   "metadata": {
    "vscode": {
     "languageId": "plaintext"
    }
   },
   "outputs": [],
   "source": [
    "import yfinance as yf\n",
    "import matplotlib.pyplot as plt\n",
    "import datetime\n",
    "\n",
    "# List of stock tickers\n",
    "tickers = ['AOS', 'DHR', 'AVY', 'BCO', 'CHE']  # Replace with your list of tickers\n",
    "\n",
    "# Define the date range\n",
    "end_date = datetime.date.today()\n",
    "start_date = end_date - datetime.timedelta(days=365)\n",
    "\n",
    "# Fetch data for each ticker\n",
    "data = {}\n",
    "for ticker in tickers:\n",
    "    stock_data = yf.download(ticker, start=start_date, end=end_date)\n",
    "    data[ticker] = stock_data['Close']\n",
    "\n",
    "# Plot the data\n",
    "plt.figure(figsize=(12, 6))\n",
    "for ticker, prices in data.items():\n",
    "    plt.plot(prices.index, prices, label=ticker)\n",
    "\n",
    "# Add a vertical line for December 17, 2024\n",
    "highlight_date = datetime.datetime(2024, 12, 17)\n",
    "plt.axvline(x=highlight_date, color='red', linestyle='--', label='Dec 17, 2024')\n",
    "\n",
    "# Add labels, legend, and title\n",
    "plt.xlabel('Date')\n",
    "plt.ylabel('Price')\n",
    "plt.title('Stock Prices Over the Last Year')\n",
    "plt.legend()\n",
    "plt.grid()\n",
    "\n",
    "# Show the plot\n",
    "plt.show()"
   ]
  }
 ],
 "metadata": {
  "language_info": {
   "name": "python"
  }
 },
 "nbformat": 4,
 "nbformat_minor": 2
}
